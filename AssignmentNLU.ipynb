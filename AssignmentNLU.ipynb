{
  "nbformat": 4,
  "nbformat_minor": 0,
  "metadata": {
    "colab": {
      "name": "AssignmentNLP.ipynb",
      "provenance": [],
      "collapsed_sections": []
    },
    "kernelspec": {
      "name": "python3",
      "display_name": "Python 3"
    },
    "language_info": {
      "name": "python"
    }
  },
  "cells": [
    {
      "cell_type": "code",
      "metadata": {
        "id": "mUsizNhoIFy8"
      },
      "source": [
        "import spacy\n",
        "\n",
        "\n",
        "\n",
        "\n",
        "example = \"\"\"\n",
        "  I saw the man with a telescope.\n",
        "  I had so much fun!\n",
        "  \"\"\"\n",
        "spacy_nlp = spacy.load('en_core_web_sm')\n",
        "spacy_doc = spacy_nlp(example)"
      ],
      "execution_count": 1,
      "outputs": []
    },
    {
      "cell_type": "code",
      "metadata": {
        "id": "A4ZZ31IoLF8B"
      },
      "source": [
        "def depPath(doc):\n",
        "  dep = []\n",
        "  for sent in doc.sents:\n",
        "    dep.append([c for c in sent.root.children])\n",
        "  return dep"
      ],
      "execution_count": 2,
      "outputs": []
    },
    {
      "cell_type": "code",
      "metadata": {
        "id": "jqMj7RKwXntE"
      },
      "source": [
        "def subTreeFromToken(doc,tok):\n",
        "  for token in doc:\n",
        "    if token.head.text == tok:\n",
        "      return [c for c in token.head.children]"
      ],
      "execution_count": 3,
      "outputs": []
    },
    {
      "cell_type": "code",
      "metadata": {
        "id": "LwdWwZreaQus",
        "colab": {
          "base_uri": "https://localhost:8080/"
        },
        "outputId": "f6e1978b-f478-4eb9-9f44-ca55a31e404c"
      },
      "source": [
        "depPath(spacy_doc)"
      ],
      "execution_count": 4,
      "outputs": [
        {
          "output_type": "execute_result",
          "data": {
            "text/plain": [
              "[[I, man, .], [I, fun, !]]"
            ]
          },
          "metadata": {
            "tags": []
          },
          "execution_count": 4
        }
      ]
    },
    {
      "cell_type": "markdown",
      "metadata": {
        "id": "QJ0_eKSKJV-c"
      },
      "source": [
        "\n",
        "\n",
        "*   expract a path of dependency relations from the ROOT to a token\n",
        "*   extract subtree of a dependents given a token\n",
        "*   check if a given list of tokens (segment of a sentence) forms a subtree\n",
        "*   identify head of a span, given its tokens\n",
        "*   extract sentence subject, direct object and indirect object spans\n",
        "\n"
      ]
    },
    {
      "cell_type": "code",
      "metadata": {
        "colab": {
          "base_uri": "https://localhost:8080/"
        },
        "id": "cGcqcBp8V_Ab",
        "outputId": "65ff2816-0779-4e2a-fff7-1d9a1d75b4e1"
      },
      "source": [
        "subTreeFromToken(spacy_doc,'saw')"
      ],
      "execution_count": 5,
      "outputs": [
        {
          "output_type": "execute_result",
          "data": {
            "text/plain": [
              "[I, man, .]"
            ]
          },
          "metadata": {
            "tags": []
          },
          "execution_count": 5
        }
      ]
    }
  ]
}