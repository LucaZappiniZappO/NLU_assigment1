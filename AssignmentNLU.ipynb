{
  "nbformat": 4,
  "nbformat_minor": 0,
  "metadata": {
    "colab": {
      "name": "AssignmentNLP.ipynb",
      "provenance": [],
      "collapsed_sections": []
    },
    "kernelspec": {
      "name": "python3",
      "display_name": "Python 3"
    },
    "language_info": {
      "name": "python"
    }
  },
  "cells": [
    {
      "cell_type": "code",
      "metadata": {
        "id": "mUsizNhoIFy8"
      },
      "source": [
        "import spacy\n",
        "\n",
        "example = 'I saw the man with a telescope.'\n",
        "spacy_nlp = spacy.load('en_core_web_sm')"
      ],
      "execution_count": 244,
      "outputs": []
    },
    {
      "cell_type": "markdown",
      "metadata": {
        "id": "ddfTMv684YPs"
      },
      "source": [
        "# First Answer:\n",
        "The function return the path of dependencies from the ROOT to the token, For doing this i used the **ancestors property** of the token."
      ]
    },
    {
      "cell_type": "code",
      "metadata": {
        "id": "A4ZZ31IoLF8B"
      },
      "source": [
        "def depPath(sentence):\n",
        "  doc = spacy_nlp(sentence)\n",
        "  results = {}\n",
        "  for token in doc:\n",
        "      results[token.text] = [*reversed(list([anc.dep_ + ':' + anc.text for anc in token.ancestors])), token.dep_ + ':' + token.text]\n",
        "  return results"
      ],
      "execution_count": 245,
      "outputs": []
    },
    {
      "cell_type": "code",
      "metadata": {
        "colab": {
          "base_uri": "https://localhost:8080/"
        },
        "id": "Quhju6HTPSCd",
        "outputId": "ef3ac7ff-7a66-4d11-9093-16d3d92e0b43"
      },
      "source": [
        "res = depPath(example)\n",
        "for key in res:\n",
        "  print(f\"{key}: {res[key]}\")"
      ],
      "execution_count": 246,
      "outputs": [
        {
          "output_type": "stream",
          "text": [
            "I: ['ROOT:saw', 'nsubj:I']\n",
            "saw: ['ROOT:saw']\n",
            "the: ['ROOT:saw', 'dobj:man', 'det:the']\n",
            "man: ['ROOT:saw', 'dobj:man']\n",
            "with: ['ROOT:saw', 'dobj:man', 'prep:with']\n",
            "a: ['ROOT:saw', 'dobj:man', 'prep:with', 'pobj:telescope', 'det:a']\n",
            "telescope: ['ROOT:saw', 'dobj:man', 'prep:with', 'pobj:telescope']\n",
            ".: ['ROOT:saw', 'punct:.']\n"
          ],
          "name": "stdout"
        }
      ]
    },
    {
      "cell_type": "markdown",
      "metadata": {
        "id": "9ezdzaXZ5c5E"
      },
      "source": [
        "# Second Answer:\n",
        "This function uses the **subtree property** of the tokens. That is sequence containing the token and all the token’s syntactic descendants."
      ]
    },
    {
      "cell_type": "code",
      "metadata": {
        "id": "jqMj7RKwXntE"
      },
      "source": [
        "def subTreeFromToken(sentence):\n",
        "  doc = spacy_nlp(sentence)\n",
        "  return {token: list(token.subtree) for token in doc}"
      ],
      "execution_count": 247,
      "outputs": []
    },
    {
      "cell_type": "code",
      "metadata": {
        "id": "LwdWwZreaQus",
        "colab": {
          "base_uri": "https://localhost:8080/"
        },
        "outputId": "6b7e642f-1020-48c6-fa1d-8219ab7b37e2"
      },
      "source": [
        "subTreeFromToken(example)"
      ],
      "execution_count": 248,
      "outputs": [
        {
          "output_type": "execute_result",
          "data": {
            "text/plain": [
              "{I: [I],\n",
              " saw: [I, saw, the, man, with, a, telescope, .],\n",
              " the: [the],\n",
              " man: [the, man, with, a, telescope],\n",
              " with: [with, a, telescope],\n",
              " a: [a],\n",
              " telescope: [a, telescope],\n",
              " .: [.]}"
            ]
          },
          "metadata": {
            "tags": []
          },
          "execution_count": 248
        }
      ]
    },
    {
      "cell_type": "markdown",
      "metadata": {
        "id": "-1jeRu8u6OvF"
      },
      "source": [
        "# Third answer:\n",
        "Using the **subtree property** of each tokens check if the given list of tokens is a valid subtree.\n"
      ]
    },
    {
      "cell_type": "code",
      "metadata": {
        "id": "zk4wuvdrL_GL"
      },
      "source": [
        "def checkListIsSubtree(sentence, possibleSubTree):\n",
        "  doc = spacy_nlp(sentence)\n",
        "  for token in doc:\n",
        "    if [t.text for t in token.subtree] == possibleSubTree:\n",
        "      return True\n",
        "  return False"
      ],
      "execution_count": 249,
      "outputs": []
    },
    {
      "cell_type": "code",
      "metadata": {
        "colab": {
          "base_uri": "https://localhost:8080/"
        },
        "id": "ZnGrC5Ci6UOB",
        "outputId": "d94a710d-756c-4d3e-c7b8-f5e931d3754d"
      },
      "source": [
        "listw = [['I','saw'],['with', 'a', 'telescope'],['a', 'telescope']]\n",
        "for pSubT in listw:\n",
        "  print(checkListIsSubtree(example,pSubT))"
      ],
      "execution_count": 250,
      "outputs": [
        {
          "output_type": "stream",
          "text": [
            "False\n",
            "True\n",
            "True\n"
          ],
          "name": "stdout"
        }
      ]
    },
    {
      "cell_type": "markdown",
      "metadata": {
        "id": "oYFpZNEN9lbt"
      },
      "source": [
        "# Fourth answer:\n"
      ]
    },
    {
      "cell_type": "code",
      "metadata": {
        "id": "vJ0PyPSY9p4d"
      },
      "source": [
        "def getSpanHead(sentence):\n",
        "  doc = spacy_nlp(sentence)\n",
        "  return doc[:].root"
      ],
      "execution_count": 251,
      "outputs": []
    },
    {
      "cell_type": "code",
      "metadata": {
        "colab": {
          "base_uri": "https://localhost:8080/"
        },
        "id": "B2hhYmFm99gt",
        "outputId": "2f9c032c-4b90-4c28-dbb4-cc297c3b75be"
      },
      "source": [
        "examples = [example,'I got my new car','Angela Merkel from Germany and the American Donald Trump dont share many opinions']\n",
        "for e in examples:\n",
        "  print(f\"{e}: {getSpanHead(e)}\")"
      ],
      "execution_count": 252,
      "outputs": [
        {
          "output_type": "stream",
          "text": [
            "I saw the man with a telescope.: saw\n",
            "I got my new car: got\n",
            "Angela Merkel from Germany and the American Donald Trump dont share many opinions: share\n"
          ],
          "name": "stdout"
        }
      ]
    },
    {
      "cell_type": "markdown",
      "metadata": {
        "id": "wcLimPJq_wc2"
      },
      "source": [
        "# Fifth answer\n",
        "The function takes as input a sentence and returns a dictionary containing as key the relation (**'nsubj', 'dobj', 'iobj'**) and as value a list containing the words related to the key. In order to do that the sentence is parsed and for every token, if the dependency relation is one of the key above, a list containing the subtree of the token is populated.\n",
        "**Indirect object** relations are represented by the **dative** keyword, since the **iobj** keyword is deprecated since in the latest versions of spaCy."
      ]
    },
    {
      "cell_type": "code",
      "metadata": {
        "id": "2Yw5W_pF_5t6"
      },
      "source": [
        "def sentenceObjSpans(sentence):\n",
        "  doc = spacy_nlp(sentence)\n",
        "  dct = {'nsubj':[],'dobj':[], 'dative':[]}\n",
        "  for token in doc:\n",
        "    if token.dep_ == 'nsubj' or token.dep_ == 'dobj' or token.dep_ == 'dative':\n",
        "      for anc in token.subtree:\n",
        "        dct[token.dep_].append(anc.text)\n",
        "  return dct"
      ],
      "execution_count": 253,
      "outputs": []
    },
    {
      "cell_type": "code",
      "metadata": {
        "colab": {
          "base_uri": "https://localhost:8080/"
        },
        "id": "_4efWbagAI3W",
        "outputId": "15ebbcb6-d367-457b-e0c8-d5fdd8a0da3e"
      },
      "source": [
        "for e in examples:\n",
        "  print(sentenceObjSpans(e))"
      ],
      "execution_count": 254,
      "outputs": [
        {
          "output_type": "stream",
          "text": [
            "{'nsubj': ['I'], 'dobj': ['the', 'man', 'with', 'a', 'telescope'], 'dative': []}\n",
            "{'nsubj': ['I'], 'dobj': ['my', 'new', 'car'], 'dative': []}\n",
            "{'nsubj': ['Angela', 'Merkel', 'from', 'Germany', 'and', 'the', 'American', 'Donald', 'Trump'], 'dobj': ['many', 'opinions'], 'dative': []}\n"
          ],
          "name": "stdout"
        }
      ]
    }
  ]
}